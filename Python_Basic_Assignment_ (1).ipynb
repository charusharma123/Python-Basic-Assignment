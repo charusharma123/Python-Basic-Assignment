{
  "nbformat": 4,
  "nbformat_minor": 0,
  "metadata": {
    "colab": {
      "provenance": []
    },
    "kernelspec": {
      "name": "python3",
      "display_name": "Python 3"
    },
    "language_info": {
      "name": "python"
    }
  },
  "cells": [
    {
      "cell_type": "markdown",
      "source": [
        "# Python Basic Assignment"
      ],
      "metadata": {
        "id": "W7T8ZPmx2UOu"
      }
    },
    {
      "cell_type": "markdown",
      "source": [
        "1. What is Python,and why it is populor?\n",
        "- Python is a high-level, interpreted programming language known for its simplicity and readability.It is populor due to its versatility, vast libraries, and community support, making it great for web development, data analysis,artificial intelligience, automation,and more.\n",
        "\n",
        "2. what is an interpreter in Python?\n",
        "- An interpreter in Python is a program that reads and executes code line by line. Unlike compilers, which converts the whole program to machine code at once, interpreters process code sequentially which allowes easier debugging.\n",
        "\n",
        "3. What are pre-defined keywords in python?\n",
        "- in Python pre-defined keywords are these reserved words that have special meanings and cannot be used as identifiers. Examples include if,else,for,whilw,def,ets.\n",
        "\n",
        "4. Can keywords be used as variable names?\n",
        "- No, keywords cannot be used as variable names because they have specific functions within the Python syntex.\n",
        "\n",
        "5. What is mutability in Python?\n",
        "- Mutability in pytthon refers to the ability of an object to be changed after it is created.IN python, lists are mutable, meaning thay can be changed, while tuples are inmutables.\n",
        "\n",
        "6. Why are lists mutable, but tuples are inmutables?\n",
        "- Lists re mutable because the are designed to allow dynamic operations like adding, removing, or changing elements. Tuples, on the other hand, are immutable to ensure data integrity and protect the data from being changed accidentally.\n",
        "\n",
        "7. What is the difference between == and is operators in Python?\n",
        "- The == operator compares the values of two objects to see if they are equal, whereas the is operator checks if two variables refers to the same objects in memory.\n",
        "\n",
        "8. What are logical operators in Python?\n",
        "- Logical operators in Python include and, or, and not. These are used to combine conditional statements.\n",
        " * and: True if both operators are true.\n",
        " * or: True if at least one operator is true.\n",
        " * not: Reverses the result of a boolean experession\n",
        "\n",
        "9. What is type casting in Python?\n",
        "- Type casting is the process of converting a data type into another such as converting a string to an integer or vice versa.\n",
        "\n",
        "10. What is the difference between implicit and explicit type casting?\n",
        "- Implicit type casting is done automatically by Python when a conversion is safe(e.g. converting an integer to a float), whileexplicit type casting is done functions like int(),float(),and scr().\n",
        "\n",
        "11. What is the purpose of conditional statements in Python?\n",
        "- Conditional statementes, like if, else, and elif, are used to perform different actions based on different conditions.\n",
        "\n",
        "12. How does the elif statement works?\n",
        "- The elif(else if) statement allows you to check multiple conditions in a sequence. If the first if condition is false, the elif block will check its condition, and so on, untile one condition is met or all conditions are false.\n",
        "\n",
        "13. What is the difference between for and while loops?\n",
        "- A For loop is used to iterate ove a sequence (like a list or string) a fixed number of times, while a While loop continues to execute as long as its condition remains true.\n",
        "\n",
        "14. Describe a scenario where a while loop is more suitable then a for loop?\n",
        "- A While loop is more suitable when the number of iterations is not known beforehand and depends on a condition being met. For example, reading data from a file until the end is reached or waiting for user input."
      ],
      "metadata": {
        "id": "dbj-LobxrpAe"
      }
    },
    {
      "cell_type": "markdown",
      "source": [
        "# Practical Questions"
      ],
      "metadata": {
        "id": "VrXDZzjOHuai"
      }
    },
    {
      "cell_type": "markdown",
      "source": [
        "1. Write a Python program to print \"Hello,World!\""
      ],
      "metadata": {
        "id": "md-NG6GwH4e8"
      }
    },
    {
      "cell_type": "code",
      "source": [
        "print(\"Hello,World!\")"
      ],
      "metadata": {
        "colab": {
          "base_uri": "https://localhost:8080/"
        },
        "id": "Tyabo0D2HsRl",
        "outputId": "1c62cb18-7121-47a1-aacd-a1f5c725d3ed"
      },
      "execution_count": null,
      "outputs": [
        {
          "output_type": "stream",
          "name": "stdout",
          "text": [
            "Hello,World!\n"
          ]
        }
      ]
    },
    {
      "cell_type": "markdown",
      "source": [
        "2. Write a Python program that display your name and age."
      ],
      "metadata": {
        "id": "ciOwarmKIZg9"
      }
    },
    {
      "cell_type": "code",
      "source": [
        "name = \"charu\"\n",
        "age = 20\n",
        "print(\"my name is {charu} and I am {20} years old\")"
      ],
      "metadata": {
        "colab": {
          "base_uri": "https://localhost:8080/"
        },
        "id": "L-2PLIEtImoo",
        "outputId": "a24f4e74-f84c-4eec-dd82-779b99156bdd"
      },
      "execution_count": null,
      "outputs": [
        {
          "output_type": "stream",
          "name": "stdout",
          "text": [
            "my name is {charu} and I am {20} years old\n"
          ]
        }
      ]
    },
    {
      "cell_type": "markdown",
      "source": [
        "3. Write code to print all the pre-defined keywords in python using the keyword libarary."
      ],
      "metadata": {
        "id": "kQpUVpcvLKHE"
      }
    },
    {
      "cell_type": "code",
      "source": [
        "import keyword\n",
        "print(keyword.kwlist)"
      ],
      "metadata": {
        "colab": {
          "base_uri": "https://localhost:8080/"
        },
        "id": "DYEQBrzVLJi4",
        "outputId": "1985cc75-83f1-449c-c0c0-f62c0ca73d66"
      },
      "execution_count": null,
      "outputs": [
        {
          "output_type": "stream",
          "name": "stdout",
          "text": [
            "['False', 'None', 'True', 'and', 'as', 'assert', 'async', 'await', 'break', 'class', 'continue', 'def', 'del', 'elif', 'else', 'except', 'finally', 'for', 'from', 'global', 'if', 'import', 'in', 'is', 'lambda', 'nonlocal', 'not', 'or', 'pass', 'raise', 'return', 'try', 'while', 'with', 'yield']\n"
          ]
        }
      ]
    },
    {
      "cell_type": "markdown",
      "source": [
        "4. Write a program that checks if a given word is a Python keyword."
      ],
      "metadata": {
        "id": "46qef2RwMb5Q"
      }
    },
    {
      "cell_type": "code",
      "source": [
        "import keyword\n",
        "word = input(\"Enter a word: \")\n",
        "if keyword.iskeyword(word):\n",
        "  print(f\"'{word}' is a python keyword.\")\n",
        "else:\n",
        "  print(f\"'{word}' is not a python keyword. \")\n"
      ],
      "metadata": {
        "colab": {
          "base_uri": "https://localhost:8080/"
        },
        "id": "eoWHjgSQMbee",
        "outputId": "47b2ae59-a2a9-4435-ae1f-9f3202ca7837"
      },
      "execution_count": null,
      "outputs": [
        {
          "output_type": "stream",
          "name": "stdout",
          "text": [
            "Enter a word: del\n",
            "'del' is a python keyword.\n"
          ]
        }
      ]
    },
    {
      "cell_type": "markdown",
      "source": [
        "5. Create a list and tuple in Python, and demonstrate how attempting to change an element works differently for each."
      ],
      "metadata": {
        "id": "To-6-LCOQS3r"
      }
    },
    {
      "cell_type": "code",
      "source": [
        "# Creating a list and a tuple\n",
        "my_list = [1, 2, 3, 4, 5]\n",
        "my_tuple = (1, 2, 3, 4, 5)\n",
        "\n",
        "# Modifying the list (lists are mutable)\n",
        "my_list[2] = 10\n",
        "print(\"Modified list:\", my_list)\n",
        "\n",
        "# Attempt to modify the tuple (tuples are immutable)\n",
        "try:\n",
        "    my_tuple[2] = 10\n",
        "except TypeError as e:\n",
        "    print(\"Error while modifying tuple:\", e)\n",
        "\n"
      ],
      "metadata": {
        "colab": {
          "base_uri": "https://localhost:8080/"
        },
        "id": "K-GcV-Z3QSe1",
        "outputId": "1a9da55a-2cc8-4c48-9615-dc3e6e115473"
      },
      "execution_count": 1,
      "outputs": [
        {
          "output_type": "stream",
          "name": "stdout",
          "text": [
            "Modified list: [1, 2, 10, 4, 5]\n",
            "Error while modifying tuple: 'tuple' object does not support item assignment\n"
          ]
        }
      ]
    },
    {
      "cell_type": "markdown",
      "source": [
        "6. Write a list program to demonstrate the behavior of mutable and immutable arguments.\n"
      ],
      "metadata": {
        "id": "7_wscwN3f6kY"
      }
    },
    {
      "cell_type": "code",
      "source": [
        "# Function to modify list and tuple\n",
        "def modify_elements(lst, tpl):\n",
        "    lst[0] = 10  # Modifying the list\n",
        "    try:\n",
        "        tpl[0] = 10  # Attempting to modify the tuple\n",
        "    except TypeError:\n",
        "        print(\"Cannot modify tuple, it's immutable.\")\n",
        "\n",
        "# Create list and tuple\n",
        "my_list = [1, 2, 3]\n",
        "my_tuple = (1, 2, 3)\n",
        "\n",
        "# Call the function\n",
        "modify_elements(my_list, my_tuple)\n",
        "print(\"Modified list:\", my_list)\n",
        "print(\"Tuple remains:\", my_tuple)"
      ],
      "metadata": {
        "colab": {
          "base_uri": "https://localhost:8080/"
        },
        "id": "HIOPBWANf6L7",
        "outputId": "f40fe3eb-2460-432c-f2c9-356334a00c66"
      },
      "execution_count": 2,
      "outputs": [
        {
          "output_type": "stream",
          "name": "stdout",
          "text": [
            "Cannot modify tuple, it's immutable.\n",
            "Modified list: [10, 2, 3]\n",
            "Tuple remains: (1, 2, 3)\n"
          ]
        }
      ]
    },
    {
      "cell_type": "markdown",
      "source": [
        "7. Write a function to demonstrate the behavior of mutable and immutable arguments.\n"
      ],
      "metadata": {
        "id": "6XPLjbTJgkgK"
      }
    },
    {
      "cell_type": "code",
      "source": [
        "\n",
        "def modify_args(a_list, a_tuple):\n",
        "    # Modifying the list (mutable)\n",
        "    a_list.append(100)\n",
        "\n",
        "    # Attempting to modify the tuple (immutable)\n",
        "    try:\n",
        "        a_tuple += (100,)\n",
        "    except TypeError:\n",
        "        print(\"Cannot modify tuple.\")\n",
        "\n",
        "    print(\"List inside function:\", a_list)\n",
        "    print(\"Tuple inside function:\", a_tuple)\n",
        "\n",
        "# Initial list and tuple\n",
        "lst = [1, 2, 3]\n",
        "tup = (1, 2, 3)\n",
        "\n",
        "modify_args(lst, tup)\n",
        "print(\"List after function call:\", lst)\n",
        "print(\"Tuple after function call:\", tup)\n"
      ],
      "metadata": {
        "colab": {
          "base_uri": "https://localhost:8080/"
        },
        "id": "ZXNuTBLugkLO",
        "outputId": "171f7451-3400-4779-a41f-12c4098c0a50"
      },
      "execution_count": 3,
      "outputs": [
        {
          "output_type": "stream",
          "name": "stdout",
          "text": [
            "List inside function: [1, 2, 3, 100]\n",
            "Tuple inside function: (1, 2, 3, 100)\n",
            "List after function call: [1, 2, 3, 100]\n",
            "Tuple after function call: (1, 2, 3)\n"
          ]
        }
      ]
    },
    {
      "cell_type": "markdown",
      "source": [
        "8. Write a program to demonstrate the use of logical operators."
      ],
      "metadata": {
        "id": "3L6WyaWHgy-_"
      }
    },
    {
      "cell_type": "code",
      "source": [
        "a = 10\n",
        "b = 20\n",
        "print(\"a > b and b > a:\", a > b and b > a)\n",
        "print(\"a < b or b < a:\", a < b or b < a)\n",
        "print(\"not (a == b):\", not (a == b))\n",
        "\n"
      ],
      "metadata": {
        "colab": {
          "base_uri": "https://localhost:8080/"
        },
        "id": "TLriyuUEgyqY",
        "outputId": "3ce933db-ebe1-41ae-b412-3eece5d904d7"
      },
      "execution_count": 4,
      "outputs": [
        {
          "output_type": "stream",
          "name": "stdout",
          "text": [
            "a > b and b > a: False\n",
            "a < b or b < a: True\n",
            "not (a == b): True\n"
          ]
        }
      ]
    },
    {
      "cell_type": "markdown",
      "source": [
        "9. Write a Python program to convert user input from string to integer, float, and boolean types.\n"
      ],
      "metadata": {
        "id": "C3HKcFFOhdn4"
      }
    },
    {
      "cell_type": "code",
      "source": [
        "user_input = input(\"Enter a value: \")\n",
        "\n",
        "# Convert to integer\n",
        "try:\n",
        "    int_value = int(user_input)\n",
        "    print(f\"Integer: {int_value}\")\n",
        "except ValueError:\n",
        "    print(\"Cannot convert to integer.\")\n",
        "\n",
        "# Convert to float\n",
        "try:\n",
        "    float_value = float(user_input)\n",
        "    print(f\"Float: {float_value}\")\n",
        "except ValueError:\n",
        "    print(\"Cannot convert to float.\")\n",
        "\n",
        "# Convert to boolean\n",
        "bool_value = bool(user_input)\n",
        "print(f\"Boolean: {bool_value}\")\n"
      ],
      "metadata": {
        "colab": {
          "base_uri": "https://localhost:8080/"
        },
        "id": "1DHcnQs8hdN7",
        "outputId": "c89db5b2-fe76-4f5b-926e-1bdc087ddc59"
      },
      "execution_count": 5,
      "outputs": [
        {
          "output_type": "stream",
          "name": "stdout",
          "text": [
            "Enter a value: 10\n",
            "Integer: 10\n",
            "Float: 10.0\n",
            "Boolean: True\n"
          ]
        }
      ]
    },
    {
      "cell_type": "markdown",
      "source": [
        "10. Write code to demonstrate type casting with list elements.\n"
      ],
      "metadata": {
        "id": "8oLZDfWhhc0p"
      }
    },
    {
      "cell_type": "code",
      "source": [
        "my_list = ['10', '20', '30', '40']  # List of strings\n",
        "\n",
        "# Convert each element from string to integer\n",
        "int_list = list(map(int, my_list))\n",
        "print(\"Converted list of integers:\", int_list)\n",
        "\n",
        "# Convert each element from integer to float\n",
        "float_list = list(map(float, int_list))\n",
        "print(\"Converted list of floats:\", float_list)\n"
      ],
      "metadata": {
        "colab": {
          "base_uri": "https://localhost:8080/"
        },
        "id": "HQW8McIzhccK",
        "outputId": "0ce41b91-a900-41e9-e500-b92a4a9af779"
      },
      "execution_count": 6,
      "outputs": [
        {
          "output_type": "stream",
          "name": "stdout",
          "text": [
            "Converted list of integers: [10, 20, 30, 40]\n",
            "Converted list of floats: [10.0, 20.0, 30.0, 40.0]\n"
          ]
        }
      ]
    },
    {
      "cell_type": "markdown",
      "source": [
        "11. Write a program that checks if a number is positive, negative, or zero.\n"
      ],
      "metadata": {
        "id": "vJuIvrB7hcDw"
      }
    },
    {
      "cell_type": "code",
      "source": [
        "number = float(input(\"Enter a number: \"))\n",
        "\n",
        "if number > 0:\n",
        "    print(\"The number is positive.\")\n",
        "elif number < 0:\n",
        "    print(\"The number is negative.\")\n",
        "else:\n",
        "    print(\"The number is zero.\")\n",
        "\n"
      ],
      "metadata": {
        "colab": {
          "base_uri": "https://localhost:8080/"
        },
        "id": "Fm9lBqmbhbqC",
        "outputId": "c51622c9-ae3f-4056-bb9b-a64c5f311c4c"
      },
      "execution_count": 8,
      "outputs": [
        {
          "output_type": "stream",
          "name": "stdout",
          "text": [
            "Enter a number: 12\n",
            "The number is positive.\n"
          ]
        }
      ]
    },
    {
      "cell_type": "markdown",
      "source": [
        "12. Write a for loop to print numbers from 1 to 10.\n"
      ],
      "metadata": {
        "id": "O4A8qMs6hXh3"
      }
    },
    {
      "cell_type": "code",
      "source": [
        "for i in range(1, 11):\n",
        "    print(i)\n",
        "\n"
      ],
      "metadata": {
        "colab": {
          "base_uri": "https://localhost:8080/"
        },
        "id": "O-v-5ywihXML",
        "outputId": "ba618e3a-001f-4974-8762-0c854ab73891"
      },
      "execution_count": 10,
      "outputs": [
        {
          "output_type": "stream",
          "name": "stdout",
          "text": [
            "1\n",
            "2\n",
            "3\n",
            "4\n",
            "5\n",
            "6\n",
            "7\n",
            "8\n",
            "9\n",
            "10\n"
          ]
        }
      ]
    },
    {
      "cell_type": "markdown",
      "source": [
        "13. Write a Python program to find the sum of all even numbers between 1 and 50.\n"
      ],
      "metadata": {
        "id": "yfCBT0_5hW3D"
      }
    },
    {
      "cell_type": "code",
      "source": [
        "sum_even = 0\n",
        "for i in range(1, 51):\n",
        "    if i % 2 == 0:\n",
        "        sum_even += i\n",
        "\n",
        "print(\"Sum of all even numbers between 1 and 50:\", sum_even)\n",
        "\n"
      ],
      "metadata": {
        "colab": {
          "base_uri": "https://localhost:8080/"
        },
        "id": "MYdG3lrAhWic",
        "outputId": "235d4016-7172-4e8f-b1b7-6993d6ebb001"
      },
      "execution_count": 11,
      "outputs": [
        {
          "output_type": "stream",
          "name": "stdout",
          "text": [
            "Sum of all even numbers between 1 and 50: 650\n"
          ]
        }
      ]
    },
    {
      "cell_type": "markdown",
      "source": [
        "14. Write a program to reverse a string using a while loop.\n"
      ],
      "metadata": {
        "id": "pT3GArqjhWOQ"
      }
    },
    {
      "cell_type": "code",
      "source": [
        "string = input(\"Enter a string: \")\n",
        "reversed_string = \"\"\n",
        "index = len(string) - 1\n",
        "\n",
        "while index >= 0:\n",
        "    reversed_string += string[index]\n",
        "    index -= 1\n",
        "\n",
        "print(\"Reversed string:\", reversed_string)\n",
        "\n"
      ],
      "metadata": {
        "colab": {
          "base_uri": "https://localhost:8080/"
        },
        "id": "yRLEnflXhV4m",
        "outputId": "c818b41b-57de-48b4-99a6-560ba452286f"
      },
      "execution_count": 13,
      "outputs": [
        {
          "output_type": "stream",
          "name": "stdout",
          "text": [
            "Enter a string: 13\n",
            "Reversed string: 31\n"
          ]
        }
      ]
    },
    {
      "cell_type": "markdown",
      "source": [
        "15. Write a Python program to calculate the factorial of a number provided by the user using a while loop.\n"
      ],
      "metadata": {
        "id": "QIt98Vw3hVdr"
      }
    },
    {
      "cell_type": "code",
      "source": [
        "number = int(input(\"Enter a number to calculate its factorial: \"))\n",
        "factorial = 1\n",
        "i = 1\n",
        "\n",
        "while i <= number:\n",
        "    factorial *= i\n",
        "    i += 1\n",
        "\n",
        "print(f\"Factorial of {number} is {factorial}\")\n"
      ],
      "metadata": {
        "colab": {
          "base_uri": "https://localhost:8080/"
        },
        "id": "kENTwnkhhVB8",
        "outputId": "802e78d1-93e1-4d42-9c7a-58c1ddb96fbc"
      },
      "execution_count": 14,
      "outputs": [
        {
          "output_type": "stream",
          "name": "stdout",
          "text": [
            "Enter a number to calculate its factorial: 14\n",
            "Factorial of 14 is 87178291200\n"
          ]
        }
      ]
    }
  ]
}